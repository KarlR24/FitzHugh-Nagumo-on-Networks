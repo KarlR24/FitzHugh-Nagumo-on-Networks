{
 "cells": [
  {
   "cell_type": "markdown",
   "id": "05f91e70",
   "metadata": {},
   "source": [
    "The phase coherence measure $R(t)$ is according to the paper: \n",
    "The synchronization of FitzHugh–Nagumo neuron network coupled by gap junction - Zhan Yong, Zhang Su-Hua, Zhao Tong-Jun, An Hai-Long, Zhang Zhen-Dong, Han Ying-Rong, Liu Hui, and Zhang Yu-Hong\n",
    "\n",
    "$R(t) = \\frac{1}{N^2} \\sum_{ij} \\langle[v_i(t) - v_j(t)]^2 \\rangle$\n",
    "\n",
    "where $N$ is the number of nodes in the graph, $v_i(t)$ the state of node $i$ at time $t$ and $\\langle \\rangle$ the average for a stochastic random variable. In the paper because the authors added Gaussian white noise in the differential equation for $v_i(t)$. However, the class FitzHugh-Nagumo on networks does not add any random variables in the differential equations. Therefore, the empirical average is taken in the sum of differences $\\sum_{i, j} \\frac{v_i(t) - v_j(t)}{2}$.\n",
    "\n",
    "\n",
    "The phase coherence formula $R(t)$ is implemented in the following way:\\\n",
    "$v_t = [v_{1t} \\dots v_{Nt}]$ states at time t for a network with $N$ nodes.\\\n",
    "$state_i, state_j$ = numpy.meshgrid($v_t,v_t$), then \n",
    "\n",
    "$state_i =\n",
    "\\begin{pmatrix}\n",
    "v_{1t} & v_{2t} & \\dots & v_{Nt}\\\\\n",
    "v_{1t} & v_{2t} & \\dots & v_{Nt}\\\\\n",
    "\\vdots\\\\\n",
    "v_{1t} & v_{2t} & \\dots & v_{Nt}\\\\\n",
    "\\end{pmatrix}\n",
    "$\n",
    ", \n",
    "$state_j =\n",
    "\\begin{pmatrix}\n",
    "v_{1t} & v_{1t} & \\dots & v_{1t}\\\\\n",
    "v_{2t} & v_{2t} & \\dots & v_{2t}\\\\\n",
    "\\vdots\\\\\n",
    "v_{Nt} & v_{Nt} & \\dots & v_{Nt}\\\\\n",
    "\\end{pmatrix}\n",
    "$\n",
    "\n",
    "Take the difference to get all differences in the double sum \n",
    "\n",
    "$ A = state_i - state_j = \n",
    "\\begin{pmatrix}\n",
    "v_{1t}-v_{1t} & v_{2t}-v_{1t} & \\dots & v_{Nt}-v_{1t}\\\\\n",
    "v_{1t}-v_{2t} & v_{2t}-v_{2t} & \\dots & v_{Nt}-v_{2t}\\\\\n",
    "\\vdots\\\\\n",
    "v_{1t}-v_{Nt} & v_{2t}-v_{Nt} & \\dots & v_{Nt}-v_{Nt}\\\\\n",
    "\\end{pmatrix}$\n",
    "\n",
    "Multiply the matrix with its transposed to obtain the squares on the diagonal.\n",
    "\n",
    "$\n",
    "A*A^T =\n",
    "\\begin{pmatrix}\n",
    "\\sum_i (v_{it}-v_{1t})^2 & \\sum_i (v_{it}-v_{1t})*(v_{it}-v_{2t}) & \\dots & \\sum_i (v_{it}-v_{1t})*(v_{it}-v_{Nt})\\\\\n",
    "\\sum_i (v_{it}-v_{2t})*(v_{it}-v_{1t}) & \\sum_i (v_{it}-v_{2t})^2 & \\dots & \\sum_i (v_{it}-v_{2t})*(v_{it}-v_{Nt})\\\\\n",
    "\\vdots\\\\\n",
    "\\sum_i (v_{it}-v_{Nt})(v_{it}-v_{1t}) & \\sum_i (v_{it}-v_{Nt})(v_{it}-v_{2t}) & \\dots & \\sum_i (v_{it}-v_{Nt})^2\\\\\n",
    "\\end{pmatrix}\n",
    "$ \n",
    "\n",
    "Note that $\\sum_i \\sum_j [v_{i}(t)-v_{j}(t)]^2 = \\sum_j \\sum_i [(v_{i}(t)-v_{j}(t)]^2$.\n",
    "\n",
    "Therefore, we obtain the phase coherence as in the paper by taking the trace of $A*A^T$ and multiplying the sum with $\\frac{1}{N^2}$\n",
    "\n",
    "$R(t) = \\frac{1}{N^2}tr(A*A^T)$\n",
    "\n"
   ]
  },
  {
   "cell_type": "code",
   "execution_count": null,
   "id": "ab629278",
   "metadata": {},
   "outputs": [],
   "source": []
  }
 ],
 "metadata": {
  "kernelspec": {
   "display_name": "Python 3 (ipykernel)",
   "language": "python",
   "name": "python3"
  },
  "language_info": {
   "codemirror_mode": {
    "name": "ipython",
    "version": 3
   },
   "file_extension": ".py",
   "mimetype": "text/x-python",
   "name": "python",
   "nbconvert_exporter": "python",
   "pygments_lexer": "ipython3",
   "version": "3.10.4"
  }
 },
 "nbformat": 4,
 "nbformat_minor": 5
}
