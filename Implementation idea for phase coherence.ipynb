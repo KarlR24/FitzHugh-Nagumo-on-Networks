The phase coherence measure $R(t)$ is according to the paper: 
The synchronization of FitzHugh–Nagumo neuron network coupled by gap junction - Zhan Yong, Zhang Su-Hua, Zhao Tong-Jun, An Hai-Long, Zhang Zhen-Dong, Han Ying-Rong, Liu Hui, and Zhang Yu-Hong

$R(t) = \frac{1}{N^2} \sum_{ij} \langle[v_i(t) - v_j(t)]^2 \rangle$

where $N$ is the number of nodes in the graph, $v_i(t)$ the state of node $i$ at time $t$ and $\langle \rangle$ the average for a stochastic random variable. In the paper because the authors added Gaussian white noise in the differential equation for $v_i(t)$. However, the class FitzHugh-Nagumo on networks does not add any random variables in the differential equations. Therefore, the measure is modifyed for our purpose.


The phase coherence formula $R(t)$ is implemented in the following way using matrices/arrays:\
$v_t = [v_{1t} \dots v_{Nt}]$ states at time t for a network with $N$ nodes.\
$state_i, state_j$ = numpy.meshgrid($v_t,v_t$), then 

$state_i =
\begin{pmatrix}
v_{1t} & v_{2t} & \dots & v_{Nt}\\
v_{1t} & v_{2t} & \dots & v_{Nt}\\
\vdots\\
v_{1t} & v_{2t} & \dots & v_{Nt}\\
\end{pmatrix}
$
, 
$state_j =
\begin{pmatrix}
v_{1t} & v_{1t} & \dots & v_{1t}\\
v_{2t} & v_{2t} & \dots & v_{2t}\\
\vdots\\
v_{Nt} & v_{Nt} & \dots & v_{Nt}\\
\end{pmatrix}
$

Take the difference to get all differences in the double sum 

$ A = state_i - state_j = 
\begin{pmatrix}
v_{1t}-v_{1t} & v_{2t}-v_{1t} & \dots & v_{Nt}-v_{1t}\\
v_{1t}-v_{2t} & v_{2t}-v_{2t} & \dots & v_{Nt}-v_{2t}\\
\vdots\\
v_{1t}-v_{Nt} & v_{2t}-v_{Nt} & \dots & v_{Nt}-v_{Nt}\\
\end{pmatrix}$

Multiply the matrix with its transposed to obtain the squares on the diagonal.

$
A*A^T =
\begin{pmatrix}
\sum_i (v_{it}-v_{1t})^2 & \sum_i (v_{it}-v_{1t})*(v_{it}-v_{2t}) & \dots & \sum_i (v_{it}-v_{1t})*(v_{it}-v_{Nt})\\
\sum_i (v_{it}-v_{2t})*(v_{it}-v_{1t}) & \sum_i (v_{it}-v_{2t})^2 & \dots & \sum_i (v_{it}-v_{2t})*(v_{it}-v_{Nt})\\
\vdots\\
\sum_i (v_{it}-v_{Nt})(v_{it}-v_{1t}) & \sum_i (v_{it}-v_{Nt})(v_{it}-v_{2t}) & \dots & \sum_i (v_{it}-v_{Nt})^2\\
\end{pmatrix}
$ 

Note that $\sum_i \sum_j [v_{i}(t)-v_{j}(t)]^2 = \sum_j \sum_i [(v_{i}(t)-v_{j}(t)]^2$.

Therefore, we obtain the phase coherence by taking the trace of $A*A^T$ and averaging the sum by the number of summands with $\frac{1}{N^2}$

$R(t) = \frac{1}{N^2}tr(A*A^T)$


